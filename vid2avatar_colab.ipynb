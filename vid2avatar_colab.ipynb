{
  "cells": [
    {
      "cell_type": "markdown",
      "metadata": {
        "id": "view-in-github"
      },
      "source": [
        "[![Open In Colab](https://colab.research.google.com/assets/colab-badge.svg)](https://colab.research.google.com/github/camenduru/vid2avatar-colab/blob/main/vid2avatar_colab.ipynb)"
      ]
    },
    {
      "cell_type": "code",
      "execution_count": null,
      "metadata": {
        "id": "s6QPLgRWxpAN"
      },
      "outputs": [],
      "source": [
        "# !pip install -q torch==2.0.0+cu118 torchvision==0.15.1+cu118 torchaudio==2.0.1+cu118 torchtext==0.15.1 torchdata==0.6.0 --extra-index-url https://download.pytorch.org/whl/cu118 -U\n",
        "# %env FORCE_CUDA=1\n",
        "# !FORCE_CUDA=1 pip wheel git+https://github.com/facebookresearch/pytorch3d.git@v0.7.4\n",
        "\n",
        "# %cd /content\n",
        "# !git clone --recursive https://github.com/NVIDIAGameWorks/kaolin\n",
        "# %cd /content/kaolin\n",
        "# %env IGNORE_TORCH_VER=1\n",
        "# !python setup.py develop\n",
        "# !python setup.py bdist_wheel\n",
        "\n",
        "!pip install chumpy hydra-core wandb aitviewer trimesh simple-romp pytorch-lightning==1.6.5\n",
        "\n",
        "!pip install -q https://github.com/camenduru/wheels/releases/download/colab/pytorch3d-0.7.5-cp310-cp310-linux_x86_64.whl\n",
        "from pytorch3d import ops\n",
        "!pip install -q https://github.com/camenduru/wheels/releases/download/colab/kaolin-0.15.0a0-cp310-cp310-linux_x86_64.whl\n",
        "import kaolin\n",
        "\n",
        "!git clone -b dev https://github.com/camenduru/vid2avatar\n",
        "%cd /content/vid2avatar\n",
        "\n",
        "!wget https://huggingface.co/camenduru/vid2avatar/resolve/main/parkinglot.zip\n",
        "!unzip parkinglot.zip -d /content/vid2avatar/data\n",
        "\n",
        "!mkdir /content/vid2avatar/code/lib/smpl/smpl_model\n",
        "!wget https://huggingface.co/camenduru/vid2avatar/resolve/main/models/SMPL_FEMALE.pkl -O /content/vid2avatar/code/lib/smpl/smpl_model/SMPL_FEMALE.pkl\n",
        "!wget https://huggingface.co/camenduru/vid2avatar/resolve/main/models/SMPL_MALE.pkl -O /content/vid2avatar/code/lib/smpl/smpl_model/SMPL_MALE.pkl\n",
        "\n",
        "%cd /content/vid2avatar/code\n",
        "!python setup.py develop"
      ]
    },
    {
      "cell_type": "code",
      "execution_count": null,
      "metadata": {
        "id": "pi0GewnNjf1H"
      },
      "outputs": [],
      "source": [
        "%cd /content/vid2avatar/code\n",
        "# !python train.py\n",
        "!python test.py"
      ]
    }
  ],
  "metadata": {
    "accelerator": "GPU",
    "colab": {
      "gpuType": "T4",
      "provenance": []
    },
    "kernelspec": {
      "display_name": "Python 3",
      "name": "python3"
    },
    "language_info": {
      "name": "python"
    }
  },
  "nbformat": 4,
  "nbformat_minor": 0
}
